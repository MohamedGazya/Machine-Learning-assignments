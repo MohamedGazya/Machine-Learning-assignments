{
  "nbformat": 4,
  "nbformat_minor": 0,
  "metadata": {
    "colab": {
      "name": "Untitled1.ipynb",
      "provenance": []
    },
    "kernelspec": {
      "name": "python3",
      "display_name": "Python 3"
    },
    "language_info": {
      "name": "python"
    }
  },
  "cells": [
    {
      "cell_type": "code",
      "metadata": {
        "id": "3uAZueNiyWLT"
      },
      "source": [
        "# used for manipulating directory paths\n",
        "import os\n",
        "\n",
        "# Scientific and vector computation for python\n",
        "import numpy as np\n",
        "import pandas as pd\n",
        "\n",
        "# Plotting library\n",
        "from matplotlib import pyplot as plt\n",
        "from mpl_toolkits.mplot3d import Axes3D  # needed to plot 3-D surfaces\n",
        "# tells matplotlib to embed plots within the notebook\n",
        "%matplotlib inline"
      ],
      "execution_count": 40,
      "outputs": []
    },
    {
      "cell_type": "code",
      "metadata": {
        "colab": {
          "base_uri": "https://localhost:8080/",
          "height": 411
        },
        "id": "wUhrxLolybbL",
        "outputId": "fabf1e8d-567f-4df0-d1ca-477f02987f7e"
      },
      "source": [
        "# Read comma separated data\n",
        "#data = np.loadtxt(os.path.join('Data', 'ex1data1.txt'), delimiter=',')\n",
        "#X, y = data[:, 0], data[:, 1]\n",
        "\n",
        "#m = y.size  # number of training examples\n",
        "\n",
        "data = pd.read_csv(r'house_prices_data_training_data.csv').dropna()\n",
        "data"
      ],
      "execution_count": 16,
      "outputs": [
        {
          "output_type": "execute_result",
          "data": {
            "text/html": [
              "<div>\n",
              "<style scoped>\n",
              "    .dataframe tbody tr th:only-of-type {\n",
              "        vertical-align: middle;\n",
              "    }\n",
              "\n",
              "    .dataframe tbody tr th {\n",
              "        vertical-align: top;\n",
              "    }\n",
              "\n",
              "    .dataframe thead th {\n",
              "        text-align: right;\n",
              "    }\n",
              "</style>\n",
              "<table border=\"1\" class=\"dataframe\">\n",
              "  <thead>\n",
              "    <tr style=\"text-align: right;\">\n",
              "      <th></th>\n",
              "      <th>id</th>\n",
              "      <th>date</th>\n",
              "      <th>price</th>\n",
              "      <th>bedrooms</th>\n",
              "      <th>bathrooms</th>\n",
              "      <th>sqft_living</th>\n",
              "      <th>sqft_lot</th>\n",
              "      <th>floors</th>\n",
              "      <th>waterfront</th>\n",
              "      <th>view</th>\n",
              "      <th>condition</th>\n",
              "      <th>grade</th>\n",
              "      <th>sqft_above</th>\n",
              "      <th>sqft_basement</th>\n",
              "      <th>yr_built</th>\n",
              "      <th>yr_renovated</th>\n",
              "      <th>zipcode</th>\n",
              "      <th>lat</th>\n",
              "      <th>long</th>\n",
              "      <th>sqft_living15</th>\n",
              "      <th>sqft_lot15</th>\n",
              "    </tr>\n",
              "  </thead>\n",
              "  <tbody>\n",
              "    <tr>\n",
              "      <th>0</th>\n",
              "      <td>7.129301e+09</td>\n",
              "      <td>20141013T000000</td>\n",
              "      <td>221900.0</td>\n",
              "      <td>3.0</td>\n",
              "      <td>1.00</td>\n",
              "      <td>1180.0</td>\n",
              "      <td>5650.0</td>\n",
              "      <td>1.0</td>\n",
              "      <td>0.0</td>\n",
              "      <td>0.0</td>\n",
              "      <td>3.0</td>\n",
              "      <td>7.0</td>\n",
              "      <td>1180.0</td>\n",
              "      <td>0.0</td>\n",
              "      <td>1955.0</td>\n",
              "      <td>0.0</td>\n",
              "      <td>98178.0</td>\n",
              "      <td>47.5112</td>\n",
              "      <td>-122.257</td>\n",
              "      <td>1340.0</td>\n",
              "      <td>5650.0</td>\n",
              "    </tr>\n",
              "    <tr>\n",
              "      <th>1</th>\n",
              "      <td>6.414100e+09</td>\n",
              "      <td>20141209T000000</td>\n",
              "      <td>538000.0</td>\n",
              "      <td>3.0</td>\n",
              "      <td>2.25</td>\n",
              "      <td>2570.0</td>\n",
              "      <td>7242.0</td>\n",
              "      <td>2.0</td>\n",
              "      <td>0.0</td>\n",
              "      <td>0.0</td>\n",
              "      <td>3.0</td>\n",
              "      <td>7.0</td>\n",
              "      <td>2170.0</td>\n",
              "      <td>400.0</td>\n",
              "      <td>1951.0</td>\n",
              "      <td>1991.0</td>\n",
              "      <td>98125.0</td>\n",
              "      <td>47.7210</td>\n",
              "      <td>-122.319</td>\n",
              "      <td>1690.0</td>\n",
              "      <td>7639.0</td>\n",
              "    </tr>\n",
              "    <tr>\n",
              "      <th>2</th>\n",
              "      <td>5.631500e+09</td>\n",
              "      <td>20150225T000000</td>\n",
              "      <td>180000.0</td>\n",
              "      <td>2.0</td>\n",
              "      <td>1.00</td>\n",
              "      <td>770.0</td>\n",
              "      <td>10000.0</td>\n",
              "      <td>1.0</td>\n",
              "      <td>0.0</td>\n",
              "      <td>0.0</td>\n",
              "      <td>3.0</td>\n",
              "      <td>6.0</td>\n",
              "      <td>770.0</td>\n",
              "      <td>0.0</td>\n",
              "      <td>1933.0</td>\n",
              "      <td>0.0</td>\n",
              "      <td>98028.0</td>\n",
              "      <td>47.7379</td>\n",
              "      <td>-122.233</td>\n",
              "      <td>2720.0</td>\n",
              "      <td>8062.0</td>\n",
              "    </tr>\n",
              "    <tr>\n",
              "      <th>3</th>\n",
              "      <td>2.487201e+09</td>\n",
              "      <td>20141209T000000</td>\n",
              "      <td>604000.0</td>\n",
              "      <td>4.0</td>\n",
              "      <td>3.00</td>\n",
              "      <td>1960.0</td>\n",
              "      <td>5000.0</td>\n",
              "      <td>1.0</td>\n",
              "      <td>0.0</td>\n",
              "      <td>0.0</td>\n",
              "      <td>5.0</td>\n",
              "      <td>7.0</td>\n",
              "      <td>1050.0</td>\n",
              "      <td>910.0</td>\n",
              "      <td>1965.0</td>\n",
              "      <td>0.0</td>\n",
              "      <td>98136.0</td>\n",
              "      <td>47.5208</td>\n",
              "      <td>-122.393</td>\n",
              "      <td>1360.0</td>\n",
              "      <td>5000.0</td>\n",
              "    </tr>\n",
              "    <tr>\n",
              "      <th>4</th>\n",
              "      <td>1.954401e+09</td>\n",
              "      <td>20150218T000000</td>\n",
              "      <td>510000.0</td>\n",
              "      <td>3.0</td>\n",
              "      <td>2.00</td>\n",
              "      <td>1680.0</td>\n",
              "      <td>8080.0</td>\n",
              "      <td>1.0</td>\n",
              "      <td>0.0</td>\n",
              "      <td>0.0</td>\n",
              "      <td>3.0</td>\n",
              "      <td>8.0</td>\n",
              "      <td>1680.0</td>\n",
              "      <td>0.0</td>\n",
              "      <td>1987.0</td>\n",
              "      <td>0.0</td>\n",
              "      <td>98074.0</td>\n",
              "      <td>47.6168</td>\n",
              "      <td>-122.045</td>\n",
              "      <td>1800.0</td>\n",
              "      <td>7503.0</td>\n",
              "    </tr>\n",
              "    <tr>\n",
              "      <th>...</th>\n",
              "      <td>...</td>\n",
              "      <td>...</td>\n",
              "      <td>...</td>\n",
              "      <td>...</td>\n",
              "      <td>...</td>\n",
              "      <td>...</td>\n",
              "      <td>...</td>\n",
              "      <td>...</td>\n",
              "      <td>...</td>\n",
              "      <td>...</td>\n",
              "      <td>...</td>\n",
              "      <td>...</td>\n",
              "      <td>...</td>\n",
              "      <td>...</td>\n",
              "      <td>...</td>\n",
              "      <td>...</td>\n",
              "      <td>...</td>\n",
              "      <td>...</td>\n",
              "      <td>...</td>\n",
              "      <td>...</td>\n",
              "      <td>...</td>\n",
              "    </tr>\n",
              "    <tr>\n",
              "      <th>17994</th>\n",
              "      <td>6.414100e+09</td>\n",
              "      <td>20150108T000000</td>\n",
              "      <td>320000.0</td>\n",
              "      <td>2.0</td>\n",
              "      <td>1.00</td>\n",
              "      <td>1802.0</td>\n",
              "      <td>11225.0</td>\n",
              "      <td>1.0</td>\n",
              "      <td>0.0</td>\n",
              "      <td>0.0</td>\n",
              "      <td>3.0</td>\n",
              "      <td>7.0</td>\n",
              "      <td>1802.0</td>\n",
              "      <td>0.0</td>\n",
              "      <td>1961.0</td>\n",
              "      <td>0.0</td>\n",
              "      <td>98125.0</td>\n",
              "      <td>47.7205</td>\n",
              "      <td>-122.323</td>\n",
              "      <td>1810.0</td>\n",
              "      <td>7332.0</td>\n",
              "    </tr>\n",
              "    <tr>\n",
              "      <th>17995</th>\n",
              "      <td>1.346300e+09</td>\n",
              "      <td>20140626T000000</td>\n",
              "      <td>1990000.0</td>\n",
              "      <td>5.0</td>\n",
              "      <td>3.00</td>\n",
              "      <td>4480.0</td>\n",
              "      <td>5000.0</td>\n",
              "      <td>2.5</td>\n",
              "      <td>0.0</td>\n",
              "      <td>0.0</td>\n",
              "      <td>5.0</td>\n",
              "      <td>12.0</td>\n",
              "      <td>3420.0</td>\n",
              "      <td>1060.0</td>\n",
              "      <td>1902.0</td>\n",
              "      <td>0.0</td>\n",
              "      <td>98112.0</td>\n",
              "      <td>47.6275</td>\n",
              "      <td>-122.315</td>\n",
              "      <td>3220.0</td>\n",
              "      <td>5600.0</td>\n",
              "    </tr>\n",
              "    <tr>\n",
              "      <th>17996</th>\n",
              "      <td>2.212210e+09</td>\n",
              "      <td>20140702T000000</td>\n",
              "      <td>253000.0</td>\n",
              "      <td>2.0</td>\n",
              "      <td>1.00</td>\n",
              "      <td>1310.0</td>\n",
              "      <td>7128.0</td>\n",
              "      <td>1.0</td>\n",
              "      <td>0.0</td>\n",
              "      <td>0.0</td>\n",
              "      <td>4.0</td>\n",
              "      <td>7.0</td>\n",
              "      <td>940.0</td>\n",
              "      <td>370.0</td>\n",
              "      <td>1980.0</td>\n",
              "      <td>0.0</td>\n",
              "      <td>98031.0</td>\n",
              "      <td>47.3958</td>\n",
              "      <td>-122.189</td>\n",
              "      <td>1400.0</td>\n",
              "      <td>7161.0</td>\n",
              "    </tr>\n",
              "    <tr>\n",
              "      <th>17997</th>\n",
              "      <td>2.050004e+08</td>\n",
              "      <td>20140915T000000</td>\n",
              "      <td>630000.0</td>\n",
              "      <td>3.0</td>\n",
              "      <td>2.50</td>\n",
              "      <td>2320.0</td>\n",
              "      <td>32772.0</td>\n",
              "      <td>2.0</td>\n",
              "      <td>0.0</td>\n",
              "      <td>0.0</td>\n",
              "      <td>3.0</td>\n",
              "      <td>9.0</td>\n",
              "      <td>2320.0</td>\n",
              "      <td>0.0</td>\n",
              "      <td>1992.0</td>\n",
              "      <td>0.0</td>\n",
              "      <td>98053.0</td>\n",
              "      <td>47.6304</td>\n",
              "      <td>-121.988</td>\n",
              "      <td>2610.0</td>\n",
              "      <td>33305.0</td>\n",
              "    </tr>\n",
              "    <tr>\n",
              "      <th>17998</th>\n",
              "      <td>2.892600e+09</td>\n",
              "      <td>20150106T000000</td>\n",
              "      <td>216000.0</td>\n",
              "      <td>2.0</td>\n",
              "      <td>1.00</td>\n",
              "      <td>1130.0</td>\n",
              "      <td>12500.0</td>\n",
              "      <td>1.0</td>\n",
              "      <td>0.0</td>\n",
              "      <td>0.0</td>\n",
              "      <td>4.0</td>\n",
              "      <td>7.0</td>\n",
              "      <td>1130.0</td>\n",
              "      <td>0.0</td>\n",
              "      <td>1953.0</td>\n",
              "      <td>0.0</td>\n",
              "      <td>98055.0</td>\n",
              "      <td>47.4514</td>\n",
              "      <td>-122.187</td>\n",
              "      <td>1270.0</td>\n",
              "      <td>10798.0</td>\n",
              "    </tr>\n",
              "  </tbody>\n",
              "</table>\n",
              "<p>17999 rows × 21 columns</p>\n",
              "</div>"
            ],
            "text/plain": [
              "                 id             date  ...  sqft_living15  sqft_lot15\n",
              "0      7.129301e+09  20141013T000000  ...         1340.0      5650.0\n",
              "1      6.414100e+09  20141209T000000  ...         1690.0      7639.0\n",
              "2      5.631500e+09  20150225T000000  ...         2720.0      8062.0\n",
              "3      2.487201e+09  20141209T000000  ...         1360.0      5000.0\n",
              "4      1.954401e+09  20150218T000000  ...         1800.0      7503.0\n",
              "...             ...              ...  ...            ...         ...\n",
              "17994  6.414100e+09  20150108T000000  ...         1810.0      7332.0\n",
              "17995  1.346300e+09  20140626T000000  ...         3220.0      5600.0\n",
              "17996  2.212210e+09  20140702T000000  ...         1400.0      7161.0\n",
              "17997  2.050004e+08  20140915T000000  ...         2610.0     33305.0\n",
              "17998  2.892600e+09  20150106T000000  ...         1270.0     10798.0\n",
              "\n",
              "[17999 rows x 21 columns]"
            ]
          },
          "metadata": {
            "tags": []
          },
          "execution_count": 16
        }
      ]
    },
    {
      "cell_type": "code",
      "metadata": {
        "id": "_eXa1DA2yttI"
      },
      "source": [
        "training_set, validation_set, test_set = np.split(data.sample(frac=1), [int(.6*len(data)), int(.8*len(data))])"
      ],
      "execution_count": 17,
      "outputs": []
    },
    {
      "cell_type": "code",
      "metadata": {
        "id": "LIhGxzbCyy3d"
      },
      "source": [
        "def normalize(input):\n",
        "  mean = input.mean()\n",
        "  standard_deviation = input.std()\n",
        "  normalized = (input - mean) / standard_deviation\n",
        "  return normalized"
      ],
      "execution_count": 18,
      "outputs": []
    },
    {
      "cell_type": "code",
      "metadata": {
        "id": "NzgM7hdMPYBg"
      },
      "source": [
        "def retExpoFunc(X):\n",
        "    \n",
        "    s = X.shape[1]\n",
        "    \n",
        "    for i in range(1, s):\n",
        "        X.iloc[:, i] = X.iloc[:, i].pow(i+1)\n",
        "    return X"
      ],
      "execution_count": 19,
      "outputs": []
    },
    {
      "cell_type": "code",
      "metadata": {
        "id": "bU7dW1RkPZHR"
      },
      "source": [
        "def NormArray(X):\n",
        "    \n",
        "    m = X.shape[0]\n",
        "    \n",
        "    Xn = retExpoFunc(X)\n",
        "    Xn = normalize(Xn)\n",
        "    Xn = Xn.to_numpy()\n",
        "    Xn = np.concatenate([np.ones((m,1), dtype = float), Xn], axis =1)\n",
        "    \n",
        "    return Xn"
      ],
      "execution_count": 29,
      "outputs": []
    },
    {
      "cell_type": "code",
      "metadata": {
        "id": "Xi6xuUCTWcDD"
      },
      "source": [
        "def gradientDescent1(x, y, num_iterations, theta, alpha):\n",
        "  m = y.shape[0]\n",
        "  theta = theta.copy()\n",
        "  theta = np.expand_dims(theta, axis=-1)\n",
        "  Jhistory = []\n",
        "\n",
        "  for i in range(num_iterations):\n",
        "    hyp = np.dot(x, theta)\n",
        "    theta = theta - ((alpha/m)*(np.dot(x.T, hyp-y)))\n",
        "    Jhistory.append(computeCost1(x, y, theta))\n",
        "  return theta, Jhistory\n",
        "\n",
        "def gradientDescent2(x, y, num_iterations, theta, alpha):\n",
        "  m = y.shape[0]\n",
        "  theta = theta.copy()\n",
        "  theta = np.expand_dims(theta, axis=-1)\n",
        "  Jhistory = []\n",
        "\n",
        "  for i in range(num_iterations):\n",
        "    hyp = np.dot(np.power(x, 2), theta) + np.dot(x, theta)\n",
        "    theta = theta - ((alpha/m)*(np.dot(x.T, hyp-y)))\n",
        "    Jhistory.append(computeCost2(x, y, theta))\n",
        "  return theta, Jhistory\n",
        "\n",
        "def gradientDescent3(x, y, num_iterations, theta, alpha):\n",
        "  m = y.shape[0]\n",
        "  theta = theta.copy()\n",
        "  theta = np.expand_dims(theta, axis=-1)\n",
        "  Jhistory = []\n",
        "\n",
        "  for i in range(num_iterations):\n",
        "    hyp = np.dot(np.power(x, 3), theta) + np.dot(np.power(x, 2), theta) + np.dot(x, theta)\n",
        "    theta = theta - ((alpha/m)*(np.dot(x.T, hyp-y)))\n",
        "    Jhistory.append(computeCost3(x, y, theta))\n",
        "  return theta, Jhistory\n"
      ],
      "execution_count": 43,
      "outputs": []
    },
    {
      "cell_type": "code",
      "metadata": {
        "id": "DyovWR0MZlST"
      },
      "source": [
        "def computeCost1(x, y, theta):\n",
        "    \n",
        "    m = y.shape[0] \n",
        "    \n",
        "    J = 0\n",
        "    \n",
        "    Hyp = np.dot(x, theta)\n",
        "    \n",
        "    \n",
        "    J = (1/(2 * m)) * np.sum(np.square(Hyp - y))\n",
        "    \n",
        "    return J\n",
        "\n",
        "def computeCost2(x, y, theta):\n",
        "    \n",
        "    m = y.shape[0] \n",
        "    \n",
        "    J = 0\n",
        "    \n",
        "    Hyp =  np.dot(np.power(x, 2), theta) + np.dot(x, theta)\n",
        "    \n",
        "    \n",
        "    J = (1/(2 * m)) * np.sum(np.square(Hyp - y))\n",
        "    \n",
        "    return J\n",
        "\n",
        "def computeCost3(x, y, theta):\n",
        "    \n",
        "    m = y.shape[0] \n",
        "    \n",
        "    J = 0\n",
        "    \n",
        "    Hyp = np.dot(np.power(x, 3), theta) + np.dot(np.power(x, 2), theta)\n",
        "     + np.dot(x, theta)\n",
        "    \n",
        "    \n",
        "    J = (1/(2 * m)) * np.sum(np.square(Hyp - y))\n",
        "    \n",
        "    return J\n"
      ],
      "execution_count": 45,
      "outputs": []
    },
    {
      "cell_type": "code",
      "metadata": {
        "id": "8P5ypflqccJ7"
      },
      "source": [
        "def plotCost1(x, y):\n",
        "    alpha = 0.001\n",
        "    num_iters = 400\n",
        "    \n",
        "    num_features = x.shape[1]\n",
        "\n",
        "    theta = np.zeros(num_features)\n",
        "    theta, J_history = gradientDescent1(x, y, num_iters, theta, alpha)\n",
        "\n",
        "    plt.plot(np.arange(len(J_history)), J_history, lw=2)\n",
        "    plt.xlabel('Number of iterations')\n",
        "    plt.ylabel('Cost J')\n",
        "    #print('theta computed from gradient descent: {:s}'.format(str(theta)))\n",
        "    return theta\n",
        "\n",
        "def plotCost2(x, y):\n",
        "    alpha = 0.001\n",
        "    num_iters = 400\n",
        "    \n",
        "    num_features = x.shape[1]\n",
        "\n",
        "    theta = np.zeros(num_features)\n",
        "    theta, J_history = gradientDescent2(x, y, num_iters, theta, alpha)\n",
        "\n",
        "    plt.plot(np.arange(len(J_history)), J_history, lw=2)\n",
        "    plt.xlabel('Number of iterations')\n",
        "    plt.ylabel('Cost J')\n",
        "    #print('theta computed from gradient descent: {:s}'.format(str(theta)))\n",
        "    return theta\n",
        "\n",
        "def plotCost3(x, y):\n",
        "    alpha = 0.001\n",
        "    num_iters = 400\n",
        "    \n",
        "    num_features = x.shape[1]\n",
        "\n",
        "    theta = np.zeros(num_features)\n",
        "    theta, J_history = gradientDescent3(x, y, num_iters, theta, alpha)\n",
        "\n",
        "    plt.plot(np.arange(len(J_history)), J_history, lw=2)\n",
        "    plt.xlabel('Number of iterations')\n",
        "    plt.ylabel('Cost J')\n",
        "    #print('theta computed from gradient descent: {:s}'.format(str(theta)))\n",
        "    return theta"
      ],
      "execution_count": 63,
      "outputs": []
    },
    {
      "cell_type": "code",
      "metadata": {
        "id": "4NlDMp2D5xpB"
      },
      "source": [
        "training_output = training_set[['price']].copy()\n",
        "validation_output = validation_set[['price']].copy()\n",
        "testing_output = test_set[['price']].copy()"
      ],
      "execution_count": 24,
      "outputs": []
    },
    {
      "cell_type": "code",
      "metadata": {
        "id": "akladnySFxNL"
      },
      "source": [
        "x_training1 = training_set[['bedrooms']].copy()\n",
        "x_validation1 = validation_set[['bedrooms']].copy()\n",
        "x_testing1 = test_set[['bedrooms']].copy()\n",
        "\n",
        "x_training2 = training_set[['bedrooms', 'bathrooms']].copy()\n",
        "x_validation2 = validation_set[['bedrooms', 'bathrooms']].copy()\n",
        "x_testing2 = test_set[['bedrooms', 'bathrooms']].copy()\n",
        "\n",
        "x_training3 = training_set[['bedrooms', 'bathrooms', 'sqft_living']].copy()\n",
        "x_validation3 = validation_set[['bedrooms', 'bathrooms', 'sqft_living']].copy()\n",
        "x_testing3 = test_set[['bedrooms', 'bathrooms', 'sqft_living']].copy()\n",
        "\n",
        "\n",
        "x_training1n = NormArray(x_training1)\n",
        "x_training2n = NormArray(x_training2)\n",
        "x_training3n = NormArray(x_training3)\n",
        "\n",
        "\n",
        "x_validation1n = NormArray(x_validation1)\n",
        "x_validation2n = NormArray(x_validation2)\n",
        "x_validation3n = NormArray(x_validation3)\n",
        "\n",
        "\n",
        "x_testing1n = NormArray(x_testing1)\n",
        "x_testing2n = NormArray(x_testing2)\n",
        "x_testing3n = NormArray(x_testing3)\n",
        "\n",
        "\n",
        "training_outputn = NormArray(training_output)\n",
        "validation_outputn = NormArray(validation_output)\n",
        "testing_outputn = NormArray(testing_output)"
      ],
      "execution_count": 30,
      "outputs": []
    },
    {
      "cell_type": "code",
      "metadata": {
        "colab": {
          "base_uri": "https://localhost:8080/",
          "height": 311
        },
        "id": "aqAlolWvNaJ3",
        "outputId": "4741e137-8e41-465c-94e6-8f02e22dd35e"
      },
      "source": [
        "theta1 = plotCost1(x_training1n, training_outputn)\n",
        "theta1"
      ],
      "execution_count": 57,
      "outputs": [
        {
          "output_type": "execute_result",
          "data": {
            "text/plain": [
              "array([[ 3.29814094e-01, -1.26208681e-17],\n",
              "       [-4.02882140e-17,  1.03096733e-01]])"
            ]
          },
          "metadata": {
            "tags": []
          },
          "execution_count": 57
        },
        {
          "output_type": "display_data",
          "data": {
            "image/png": "[encoded data removed]",
            "text/plain": [
              "<Figure size 432x288 with 1 Axes>"
            ]
          },
          "metadata": {
            "tags": [],
            "needs_background": "light"
          }
        }
      ]
    },
    {
      "cell_type": "code",
      "metadata": {
        "colab": {
          "base_uri": "https://localhost:8080/",
          "height": 327
        },
        "id": "Msi8n-P3gNZx",
        "outputId": "84b86309-77fc-4fdc-d250-e6b90fcdb492"
      },
      "source": [
        "theta2 = plotCost2(x_training2n, training_outputn)\n",
        "theta2"
      ],
      "execution_count": 58,
      "outputs": [
        {
          "output_type": "execute_result",
          "data": {
            "text/plain": [
              "array([[ 2.75515417e-01, -3.33107223e-02],\n",
              "       [-3.10913440e-17,  6.04927422e-02],\n",
              "       [ 9.37349405e-18,  1.13600896e-01]])"
            ]
          },
          "metadata": {
            "tags": []
          },
          "execution_count": 58
        },
        {
          "output_type": "display_data",
          "data": {
            "image/png": "[encoded data removed]",
            "text/plain": [
              "<Figure size 432x288 with 1 Axes>"
            ]
          },
          "metadata": {
            "tags": [],
            "needs_background": "light"
          }
        }
      ]
    },
    {
      "cell_type": "code",
      "metadata": {
        "colab": {
          "base_uri": "https://localhost:8080/",
          "height": 343
        },
        "id": "XHiT_MtGgqms",
        "outputId": "599a5652-abc9-4df5-e94b-0cb477c19e26"
      },
      "source": [
        "theta3 = plotCost3(x_training3n, training_outputn)\n",
        "theta3"
      ],
      "execution_count": 59,
      "outputs": [
        {
          "output_type": "execute_result",
          "data": {
            "text/plain": [
              "array([[ 2.33116178e-01, -2.28822556e-02],\n",
              "       [-1.20907081e-17,  1.89368301e-02],\n",
              "       [ 3.64927090e-18,  2.22261375e-02],\n",
              "       [-1.24932218e-19, -2.79192171e-04]])"
            ]
          },
          "metadata": {
            "tags": []
          },
          "execution_count": 59
        },
        {
          "output_type": "display_data",
          "data": {
            "image/png": "[encoded data removed]",
            "text/plain": [
              "<Figure size 432x288 with 1 Axes>"
            ]
          },
          "metadata": {
            "tags": [],
            "needs_background": "light"
          }
        }
      ]
    },
    {
      "cell_type": "code",
      "metadata": {
        "colab": {
          "base_uri": "https://localhost:8080/"
        },
        "id": "ck1PcaoOkcNE",
        "outputId": "2e24c10c-dd56-4a3d-a359-268b17bc3d6e"
      },
      "source": [
        "validation_cost1 = computeCost1(x_validation1n, validation_outputn, theta1)\n",
        "validation_cost1"
      ],
      "execution_count": 65,
      "outputs": [
        {
          "output_type": "execute_result",
          "data": {
            "text/plain": [
              "0.7014328541328457"
            ]
          },
          "metadata": {
            "tags": []
          },
          "execution_count": 65
        }
      ]
    },
    {
      "cell_type": "code",
      "metadata": {
        "colab": {
          "base_uri": "https://localhost:8080/"
        },
        "id": "cA-ZDatRkclc",
        "outputId": "a7015b23-3234-4d81-8dbe-67ad2b0d6d5a"
      },
      "source": [
        "validation_cost2 = computeCost2(x_validation2n, validation_outputn, theta2)\n",
        "validation_cost2"
      ],
      "execution_count": 66,
      "outputs": [
        {
          "output_type": "execute_result",
          "data": {
            "text/plain": [
              "0.9633105837496826"
            ]
          },
          "metadata": {
            "tags": []
          },
          "execution_count": 66
        }
      ]
    },
    {
      "cell_type": "code",
      "metadata": {
        "colab": {
          "base_uri": "https://localhost:8080/"
        },
        "id": "3BivyzS1kcyA",
        "outputId": "dde57b8f-c646-4a84-a860-213eb1718460"
      },
      "source": [
        "validation_cost3 = computeCost3(x_validation3n, validation_outputn, theta3)\n",
        "validation_cost3"
      ],
      "execution_count": 67,
      "outputs": [
        {
          "output_type": "execute_result",
          "data": {
            "text/plain": [
              "34.22750220910942"
            ]
          },
          "metadata": {
            "tags": []
          },
          "execution_count": 67
        }
      ]
    }
  ]
}